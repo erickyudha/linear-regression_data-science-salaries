{
  "nbformat": 4,
  "nbformat_minor": 0,
  "metadata": {
    "colab": {
      "provenance": [],
      "include_colab_link": true
    },
    "kernelspec": {
      "name": "python3",
      "display_name": "Python 3"
    },
    "language_info": {
      "name": "python"
    }
  },
  "cells": [
    {
      "cell_type": "markdown",
      "metadata": {
        "id": "view-in-github",
        "colab_type": "text"
      },
      "source": [
        "<a href=\"https://colab.research.google.com/github/erickyudha/linear-regression_world_hapiness/blob/main/main.ipynb\" target=\"_parent\"><img src=\"https://colab.research.google.com/assets/colab-badge.svg\" alt=\"Open In Colab\"/></a>"
      ]
    },
    {
      "cell_type": "markdown",
      "source": [
        "# **Tugas 1 Laboratorium Kecerdasan Buatan - Regresi Linear**\n",
        "(Nama / NIM)"
      ],
      "metadata": {
        "id": "1JaUecXC89JV"
      }
    },
    {
      "cell_type": "markdown",
      "source": [
        "Di tugas ini, anda bertugas untuk melakukan beberapa hal. \n",
        "\n",
        "* **Tugas pertama yang anda harus lakukan adalah mengumpulkan dataset yang ingin anda gunakan, membangun dataset baru sesuai kebutuhan anda, membersihkan, dan memvalidasi dataset tersebut.**\n",
        "\n",
        "* **Tugas kedua adalah menganalisa data untuk tiap-tiap variabel, dan memastikan hubungan antar variabel, dan menemukan kesimpulan tentang data yang anda miliki.**\n",
        "\n",
        "* **Tugas ketiga adalah menggunakan kesimpulan tadi, untuk melihat data mana saja yang cocok digunakan untuk membangun model regresi. Anda juga ditugaskan untuk membangun dan memvisualisasikan model regresi linear tersebut.**"
      ],
      "metadata": {
        "id": "s2p9uy4k9PXa"
      }
    },
    {
      "cell_type": "markdown",
      "source": [
        "## Import Library"
      ],
      "metadata": {
        "id": "gDYx8MP--IMf"
      }
    },
    {
      "cell_type": "markdown",
      "source": [
        "Disini lakukan import terhadap library yang anda butuhkan. Ingat bahwa anda perlu melakukan pengumpulan dan membangun dataset, memahami kondisi data secara visual, melihat kondisi statistik deskriptif dan persebaran data."
      ],
      "metadata": {
        "id": "Sc9ckTMC--d9"
      }
    },
    {
      "cell_type": "code",
      "source": [
        "# Import library"
      ],
      "metadata": {
        "id": "ykHKpjef_rVl"
      },
      "execution_count": null,
      "outputs": []
    },
    {
      "cell_type": "markdown",
      "source": [
        "## Load Dataset"
      ],
      "metadata": {
        "id": "AfC_9h0b-KEC"
      }
    },
    {
      "cell_type": "markdown",
      "source": [
        "Disini, anda akan menghubungkan sumber data anda kedalam notebook. Lalu, anda akan memasukkan dataset-dataset yang anda gunakan kedalam program disini."
      ],
      "metadata": {
        "id": "HCXTLpN2_tTV"
      }
    },
    {
      "cell_type": "code",
      "source": [
        "# Masukkan dataset-dataset anda kedalam program"
      ],
      "metadata": {
        "id": "z3vwgsVz_3DI"
      },
      "execution_count": null,
      "outputs": []
    },
    {
      "cell_type": "markdown",
      "source": [
        "## Data Preprocessing"
      ],
      "metadata": {
        "id": "JHUvTQMU-3mD"
      }
    },
    {
      "cell_type": "markdown",
      "source": [
        "Disini, tugas anda adalah melakukan beberapa ***treatment***, atau \"tindakan\" terhadap data. Anda akan mengubah susunan dan bentuk data, pembersihan, dan validasi."
      ],
      "metadata": {
        "id": "v959nhkp_6Gu"
      }
    },
    {
      "cell_type": "markdown",
      "source": [
        "### Data Wrangling"
      ],
      "metadata": {
        "id": "gROjBQPt-MAM"
      }
    },
    {
      "cell_type": "markdown",
      "source": [
        "Ubahlah data anda kedalam bentuk yang lebih masuk akal. Contohnya adalah :\n",
        "* Mengubah index atau label baris tabel\n",
        "* Agregasi data\n",
        "* Menggabungkan beberapa dataset menjadi satu\n",
        "* Mengatur ulang bagaimana data disajikan dalam tabel\n",
        "* Mengurutkan data dengan baik dan benar\n",
        "* Menyaring data sesuai kebutuhan"
      ],
      "metadata": {
        "id": "biuEBqqeA1tr"
      }
    },
    {
      "cell_type": "code",
      "source": [
        "# Jelaskan tahapan yang kalian lakukan disini"
      ],
      "metadata": {
        "id": "U0HXYOeiB3zu"
      },
      "execution_count": null,
      "outputs": []
    },
    {
      "cell_type": "markdown",
      "source": [
        "### Data Cleansing"
      ],
      "metadata": {
        "id": "unsyOQO1-uTS"
      }
    },
    {
      "cell_type": "markdown",
      "source": [
        "Bersihkan data! \n",
        "* Pastikan tidak ada kolom kosong. Jika ada, lakukan tindakan yang tepat. Apakah anda akan menggantinya dengan rata-rata? Dengan median? atau modus? Atau dengan nilai lainnya? \n",
        "* Apakah ada data duplikat? \n",
        "* Apakah ada *outlier*? Lalu, bagaimana tindakan anda? Jelaskan alasan anda!"
      ],
      "metadata": {
        "id": "vEYO-TqSB66S"
      }
    },
    {
      "cell_type": "code",
      "source": [
        "# Jelaskan tahapan pembersihan data yang anda gunakan !"
      ],
      "metadata": {
        "id": "HD5Q5345-tBA"
      },
      "execution_count": null,
      "outputs": []
    },
    {
      "cell_type": "markdown",
      "source": [
        "### Data Validation"
      ],
      "metadata": {
        "id": "0sNTGC1A-wBe"
      }
    },
    {
      "cell_type": "markdown",
      "source": [
        "Disini, tugas anda adalah memastikan data yang anda miliki valid. Contohnya : \n",
        "* Tipe Data tiap kolom sudah tepat (Cth: NIM dan ID dalam string)\n",
        "* Tiap Data berada dalam range yang masuk akal (Cth: Umur manusia tidak ada yang minus)\n",
        "* Tiap Data dalam satuan, unit, ataupun bernilai yang tepat dan masuk akal (Cth: Kecepatan dalam m/s dan bukan mph, umur dalam tahun, bukan dalam hari atau detik)"
      ],
      "metadata": {
        "id": "Evj4KuBEC36y"
      }
    },
    {
      "cell_type": "code",
      "source": [
        "# Jelaskan tahapan validasi anda!"
      ],
      "metadata": {
        "id": "YOsC3Ip-DhAm"
      },
      "execution_count": null,
      "outputs": []
    },
    {
      "cell_type": "markdown",
      "source": [
        "## Exploratory Data Analysis"
      ],
      "metadata": {
        "id": "ukArV5kU25hW"
      }
    },
    {
      "cell_type": "markdown",
      "source": [
        "Disini, silahkan lakukan eksplorasi tentang kondisi dan hubungan antar satu data dengan yang lain."
      ],
      "metadata": {
        "id": "MxpWn-SM3Aig"
      }
    },
    {
      "cell_type": "markdown",
      "source": [
        "### Univariate Analysis"
      ],
      "metadata": {
        "id": "jQA7Cb2329Ac"
      }
    },
    {
      "cell_type": "markdown",
      "source": [
        "Lakukan analisis kepada tiap variabel. Lihatlah statistika deskriptif tiap variabel, visualisasikan sebaran tiap variabel, dan lihat secara mendalam distribusi tiap variabel."
      ],
      "metadata": {
        "id": "zdCNC-2I3EXO"
      }
    },
    {
      "cell_type": "code",
      "source": [
        "# Cek Sebaran, Statistika Deskriptif, dan Distribusi Data\n",
        "# Jangan lupa untuk memvisualisasikan data-data ini\n",
        "# PETUNJUK : Bagaimana kita menghadapi data kategorikal dan numerikal?"
      ],
      "metadata": {
        "id": "vx-FiRwH4beh"
      },
      "execution_count": null,
      "outputs": []
    },
    {
      "cell_type": "markdown",
      "source": [
        "### Bivariate Analysis"
      ],
      "metadata": {
        "id": "myyzkESP9HBD"
      }
    },
    {
      "cell_type": "markdown",
      "source": [
        "Lakukan analisis hubungan antar variabel. Bagaimana korelasi antar variabel tersebut? Bagaimana korelasi tiap variabel terhadap variabel dependen?"
      ],
      "metadata": {
        "id": "IJCq3NWa9JyF"
      }
    },
    {
      "cell_type": "code",
      "source": [
        "# Cek korelasi\n",
        "# PETUNJUK : GUNAKAN CORRELATION HEATMAP."
      ],
      "metadata": {
        "id": "WpV2lLjn9Tnn"
      },
      "execution_count": null,
      "outputs": []
    },
    {
      "cell_type": "markdown",
      "source": [
        "### Kesimpulan"
      ],
      "metadata": {
        "id": "S6z99B2d9sSX"
      }
    },
    {
      "cell_type": "markdown",
      "source": [
        "Jelaskan kesimpulan apa saja yang anda dapat dari analisis data, dan bagaimana sebaiknya anda membangun model tersebut."
      ],
      "metadata": {
        "id": "yUIuouSU9uRd"
      }
    },
    {
      "cell_type": "markdown",
      "source": [
        "## Model Creation"
      ],
      "metadata": {
        "id": "8ED3D1aI92Ps"
      }
    },
    {
      "cell_type": "markdown",
      "source": [
        "Gunakan kesimpulan yang telah anda dapatkan untuk membangun model. Data mana sajakah yang sebaiknya digunakan? Asumsi apa saja yang harus dimiliki regresi linear? Bagaimana anda memastikannya? Bagaimana jika data tidak memenuhi asumsi tersebut?"
      ],
      "metadata": {
        "id": "rvF8wsos95p0"
      }
    },
    {
      "cell_type": "markdown",
      "source": [
        "### Definisi Regresi Linear Anda"
      ],
      "metadata": {
        "id": "CsKHuRkF-IE8"
      }
    },
    {
      "cell_type": "markdown",
      "source": [
        "### Asumsi Regresi Linear"
      ],
      "metadata": {
        "id": "aI0SdW4Y-LxJ"
      }
    },
    {
      "cell_type": "markdown",
      "source": [
        "### Makna Rumus Regresi Linear OLS"
      ],
      "metadata": {
        "id": "8gHmk-Bn-Ulh"
      }
    },
    {
      "cell_type": "markdown",
      "source": [
        "### Feature Selection & Engineering"
      ],
      "metadata": {
        "id": "J8-MZSt4-Ymx"
      }
    },
    {
      "cell_type": "markdown",
      "source": [
        "### Model Fitting, Creation, and Visualization"
      ],
      "metadata": {
        "id": "A87xMiUw-fJM"
      }
    },
    {
      "cell_type": "markdown",
      "source": [
        "## Model Testing"
      ],
      "metadata": {
        "id": "aj_3Bu-DAbf2"
      }
    },
    {
      "cell_type": "markdown",
      "source": [
        "Evaluasi performa model anda!"
      ],
      "metadata": {
        "id": "s77QVOb5AwWd"
      }
    }
  ]
}
